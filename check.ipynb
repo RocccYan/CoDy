{
 "cells": [
  {
   "cell_type": "code",
   "execution_count": 6,
   "id": "d4152348-d489-446b-97cb-a3732a71850b",
   "metadata": {
    "tags": []
   },
   "outputs": [],
   "source": [
    "import torch\n",
    "import torch.nn as nn\n",
    "import math"
   ]
  },
  {
   "cell_type": "code",
   "execution_count": 2,
   "id": "d2d77246-3552-4e2e-9ce0-075b23d1b2b9",
   "metadata": {
    "tags": []
   },
   "outputs": [],
   "source": [
    "empty_edge = torch.empty([2,0])"
   ]
  },
  {
   "cell_type": "code",
   "execution_count": 8,
   "id": "1c26dc9a-e2d4-4e2f-bbd5-c9757ee62764",
   "metadata": {
    "tags": []
   },
   "outputs": [
    {
     "data": {
      "text/plain": [
       "0"
      ]
     },
     "execution_count": 8,
     "metadata": {},
     "output_type": "execute_result"
    }
   ],
   "source": [
    "empty_edge.size()[-1]"
   ]
  },
  {
   "cell_type": "code",
   "execution_count": 21,
   "id": "ff492fe9-9bb8-41f6-bad5-380ce32552c0",
   "metadata": {},
   "outputs": [],
   "source": [
    "out = torch.rand((10,))"
   ]
  },
  {
   "cell_type": "code",
   "execution_count": 23,
   "id": "792f0ff1-70af-4255-a74d-c460d39a7a23",
   "metadata": {
    "tags": []
   },
   "outputs": [
    {
     "data": {
      "text/plain": [
       "tensor([0.6613, 0.4862, 0.8549, 0.2677, 0.6530, 0.4645, 0.9764, 0.0092, 0.5679,\n",
       "        0.3295])"
      ]
     },
     "execution_count": 23,
     "metadata": {},
     "output_type": "execute_result"
    }
   ],
   "source": [
    "out"
   ]
  },
  {
   "cell_type": "code",
   "execution_count": 24,
   "id": "90b42b87-14a1-49e4-88c4-4b767fa9d539",
   "metadata": {},
   "outputs": [
    {
     "data": {
      "text/plain": [
       "tensor([1., 1., 1., 1., 1., 1., 1., 1., 1., 1.])"
      ]
     },
     "execution_count": 24,
     "metadata": {},
     "output_type": "execute_result"
    }
   ],
   "source": [
    "torch.max(out,torch.ones_like(out))"
   ]
  },
  {
   "cell_type": "code",
   "execution_count": 26,
   "id": "bc4c8e17-b13e-419a-8459-2240f2783be8",
   "metadata": {
    "tags": []
   },
   "outputs": [
    {
     "data": {
      "text/plain": [
       "10"
      ]
     },
     "execution_count": 26,
     "metadata": {},
     "output_type": "execute_result"
    }
   ],
   "source": [
    "out.shape[0]"
   ]
  },
  {
   "cell_type": "code",
   "execution_count": null,
   "id": "aa07deb8-6532-4d4b-bf48-3c9e243d0b5d",
   "metadata": {},
   "outputs": [],
   "source": [
    "# Example of target with class probabilities\n",
    "input = torch.randn(3, 5, requires_grad=True)\n",
    "target = torch.randn(3, 5).softmax(dim=1)\n",
    "output = loss(input, target)\n",
    "output.backward()"
   ]
  },
  {
   "cell_type": "code",
   "execution_count": 33,
   "id": "4890d858-e163-4241-9982-cce1000ba722",
   "metadata": {},
   "outputs": [],
   "source": [
    "# Example of target with class indices\n",
    "loss = nn.CrossEntropyLoss()\n",
    "input = torch.randn(3, 5, requires_grad=True)\n",
    "target = torch.empty(3, dtype=torch.long).random_(5)\n",
    "output = loss(input, target)\n",
    "output.backward()\n"
   ]
  },
  {
   "cell_type": "code",
   "execution_count": 36,
   "id": "07891cd5-8301-42a0-afef-f4f2a3a98687",
   "metadata": {
    "tags": []
   },
   "outputs": [
    {
     "data": {
      "text/plain": [
       "torch.Size([3, 5])"
      ]
     },
     "execution_count": 36,
     "metadata": {},
     "output_type": "execute_result"
    }
   ],
   "source": [
    "input.shape"
   ]
  },
  {
   "cell_type": "code",
   "execution_count": 37,
   "id": "fa7020fc-6f0c-45bb-8764-1dcda7017699",
   "metadata": {
    "tags": []
   },
   "outputs": [
    {
     "data": {
      "text/plain": [
       "torch.Size([3])"
      ]
     },
     "execution_count": 37,
     "metadata": {},
     "output_type": "execute_result"
    }
   ],
   "source": [
    "target.shape"
   ]
  },
  {
   "cell_type": "code",
   "execution_count": 39,
   "id": "ae0757d3-07a4-4b24-ae2d-664d91630027",
   "metadata": {},
   "outputs": [
    {
     "name": "stdout",
     "output_type": "stream",
     "text": [
      "[5, 5, 5]\n"
     ]
    },
    {
     "ename": "TypeError",
     "evalue": "'int' object is not iterable",
     "output_type": "error",
     "traceback": [
      "\u001b[0;31m---------------------------------------------------------------------------\u001b[0m",
      "\u001b[0;31mTypeError\u001b[0m                                 Traceback (most recent call last)",
      "Cell \u001b[0;32mIn[39], line 3\u001b[0m\n\u001b[1;32m      1\u001b[0m a \u001b[38;5;241m=\u001b[39m \u001b[38;5;241m5\u001b[39m\n\u001b[1;32m      2\u001b[0m \u001b[38;5;28mprint\u001b[39m([a]\u001b[38;5;241m*\u001b[39m\u001b[38;5;241m3\u001b[39m)\n\u001b[0;32m----> 3\u001b[0m \u001b[38;5;28mprint\u001b[39m(\u001b[38;5;28;43mlist\u001b[39;49m\u001b[43m(\u001b[49m\u001b[43ma\u001b[49m\u001b[43m)\u001b[49m\u001b[38;5;241m*\u001b[39m\u001b[38;5;241m3\u001b[39m)\n",
      "\u001b[0;31mTypeError\u001b[0m: 'int' object is not iterable"
     ]
    }
   ],
   "source": [
    "a = 5\n",
    "print([a]*3)\n",
    "print(list(a)*3)"
   ]
  },
  {
   "cell_type": "markdown",
   "id": "321bf55b-d2b0-48e1-ad73-0993eacf09c4",
   "metadata": {},
   "source": [
    "### check RTE"
   ]
  },
  {
   "cell_type": "code",
   "execution_count": 7,
   "id": "e79b0d02-449d-4149-be1c-6d79d6de2d94",
   "metadata": {
    "tags": []
   },
   "outputs": [],
   "source": [
    "class RelTemporalEncoding(torch.nn.Module):\n",
    "    '''\n",
    "        Implement the Temporal Encoding (Sinusoid) function.\n",
    "    '''\n",
    "    def __init__(self, n_hid, max_len = 240, dropout = 0.2):\n",
    "        super(RelTemporalEncoding, self).__init__()\n",
    "        position = torch.arange(0., max_len).unsqueeze(1)\n",
    "        div_term = torch.exp(torch.arange(0, n_hid, 2) *\n",
    "                             -(math.log(10000.0) / n_hid))\n",
    "        emb = torch.nn.Embedding(max_len, n_hid)\n",
    "        emb.weight.data[:, 0::2] = torch.sin(position * div_term) / math.sqrt(n_hid)\n",
    "        emb.weight.data[:, 1::2] = torch.cos(position * div_term) / math.sqrt(n_hid)\n",
    "        emb.requires_grad = False\n",
    "        self.emb = emb\n",
    "        self.lin = torch.nn.Linear(n_hid, n_hid)\n",
    "    def forward(self, x, t):\n",
    "        return x + self.lin(self.emb(t))"
   ]
  },
  {
   "cell_type": "code",
   "execution_count": 8,
   "id": "55a624ff-64aa-4da9-8827-1a7cb30656b4",
   "metadata": {
    "tags": []
   },
   "outputs": [],
   "source": [
    "rte_demo = RelTemporalEncoding(8, max_len=240)"
   ]
  },
  {
   "cell_type": "code",
   "execution_count": 10,
   "id": "32519227-709b-46c9-a3f4-24bb49af8f1a",
   "metadata": {
    "tags": []
   },
   "outputs": [],
   "source": [
    "x = torch.rand((4,8))\n",
    "# torch.randint(0, 10, (train_data[edge_type].edge_index.shape[1],))\n",
    "t = torch.randint(0,10, (100,))"
   ]
  },
  {
   "cell_type": "code",
   "execution_count": 11,
   "id": "a1f6f42a-4dd8-496e-801b-300a95d64851",
   "metadata": {
    "tags": []
   },
   "outputs": [
    {
     "name": "stdout",
     "output_type": "stream",
     "text": [
      "tensor([[0.3419, 0.1724, 0.8794, 0.1805, 0.6367, 0.8786, 0.4847, 0.4033, 0.3627,\n",
      "         0.0651, 0.8484, 0.3934, 0.6713, 0.4728, 0.8684, 0.8350, 0.6461, 0.4703,\n",
      "         0.0780, 0.6583, 0.8922, 0.3320, 0.7128, 0.5840, 0.1269, 0.2986, 0.3927,\n",
      "         0.2269, 0.5518, 0.2041, 0.8701, 0.3334],\n",
      "        [0.5457, 0.0906, 0.1986, 0.8647, 0.8991, 0.4514, 0.3768, 0.8098, 0.4270,\n",
      "         0.7941, 0.7921, 0.9265, 0.4659, 0.3243, 0.9277, 0.6922, 0.5995, 0.5037,\n",
      "         0.1172, 0.5404, 0.5202, 0.2461, 0.1997, 0.6897, 0.2523, 0.8349, 0.0773,\n",
      "         0.8354, 0.2820, 0.1057, 0.9695, 0.5245],\n",
      "        [0.2007, 0.3608, 0.3463, 0.1313, 0.2004, 0.1293, 0.9450, 0.5048, 0.7932,\n",
      "         0.8472, 0.3210, 0.2177, 0.2689, 0.1598, 0.6896, 0.3532, 0.7103, 0.0499,\n",
      "         0.9913, 0.1060, 0.9154, 0.4942, 0.0910, 0.2656, 0.1752, 0.2661, 0.1413,\n",
      "         0.4761, 0.8279, 0.0202, 0.6336, 0.8701],\n",
      "        [0.5691, 0.7189, 0.6576, 0.2433, 0.2988, 0.3667, 0.7556, 0.8899, 0.3737,\n",
      "         0.0473, 0.9424, 0.3372, 0.1814, 0.3691, 0.6471, 0.0792, 0.2220, 0.4113,\n",
      "         0.0381, 0.6103, 0.3580, 0.9482, 0.9434, 0.6457, 0.8585, 0.2836, 0.6800,\n",
      "         0.5925, 0.5397, 0.5415, 0.8773, 0.4568],\n",
      "        [0.6946, 0.1091, 0.7323, 0.1782, 0.8057, 0.5359, 0.3508, 0.3818, 0.1345,\n",
      "         0.5823, 0.2193, 0.2600, 0.5533, 0.2331, 0.5692, 0.3986, 0.6830, 0.5244,\n",
      "         0.1351, 0.0777, 0.4633, 0.1377, 0.7503, 0.8548, 0.4087, 0.5407, 0.3528,\n",
      "         0.4127, 0.2366, 0.9205, 0.7150, 0.7553],\n",
      "        [0.6238, 0.3261, 0.1972, 0.7456, 0.4060, 0.8947, 0.9179, 0.2941, 0.5172,\n",
      "         0.9118, 0.4679, 0.6846, 0.2649, 0.6759, 0.0338, 0.0278, 0.6851, 0.8310,\n",
      "         0.9400, 0.8446, 0.4676, 0.9743, 0.0613, 0.2245, 0.7694, 0.7346, 0.0749,\n",
      "         0.2530, 0.0565, 0.3171, 0.9005, 0.2533],\n",
      "        [0.9139, 0.0217, 0.7060, 0.2774, 0.4646, 0.1479, 0.9465, 0.9933, 0.3323,\n",
      "         0.5751, 0.6144, 0.0729, 0.5707, 0.5854, 0.2947, 0.7696, 0.5069, 0.6686,\n",
      "         0.5724, 0.3119, 0.7284, 0.7016, 0.6964, 0.2346, 0.7494, 0.2975, 0.6189,\n",
      "         0.7023, 0.3187, 0.0021, 0.0820, 0.8093],\n",
      "        [0.2032, 0.2335, 0.6384, 0.0529, 0.8131, 0.9493, 0.9855, 0.8230, 0.7603,\n",
      "         0.7500, 0.9592, 0.1414, 0.8102, 0.7709, 0.3750, 0.0812, 0.0568, 0.8218,\n",
      "         0.2775, 0.1760, 0.4393, 0.1339, 0.3624, 0.2621, 0.2201, 0.3596, 0.3571,\n",
      "         0.3758, 0.7547, 0.1127, 0.1335, 0.8952]])\n",
      "tensor([3, 8, 0, 1, 9, 1, 0, 8, 8, 2, 9, 6, 6, 5, 7, 4, 9, 3, 1, 0, 3, 0, 5, 5,\n",
      "        6, 9, 9, 0, 6, 1, 4, 4, 4, 6, 9, 5, 2, 4, 8, 0, 6, 6, 8, 8, 3, 8, 7, 4,\n",
      "        0, 3, 4, 4, 9, 0, 9, 8, 7, 2, 7, 9, 8, 6, 1, 6, 2, 3, 0, 5, 7, 8, 1, 7,\n",
      "        3, 7, 8, 6, 7, 6, 1, 4, 6, 6, 7, 9, 5, 4, 3, 4, 6, 1, 5, 6, 0, 7, 0, 7,\n",
      "        5, 9, 6, 5])\n"
     ]
    }
   ],
   "source": [
    "print(x)\n",
    "print(t)"
   ]
  },
  {
   "cell_type": "code",
   "execution_count": 12,
   "id": "5b461d54-1bd0-460b-b934-6ecf768daa61",
   "metadata": {
    "tags": []
   },
   "outputs": [
    {
     "ename": "RuntimeError",
     "evalue": "The size of tensor a (32) must match the size of tensor b (8) at non-singleton dimension 1",
     "output_type": "error",
     "traceback": [
      "\u001b[0;31m---------------------------------------------------------------------------\u001b[0m",
      "\u001b[0;31mRuntimeError\u001b[0m                              Traceback (most recent call last)",
      "Cell \u001b[0;32mIn[12], line 1\u001b[0m\n\u001b[0;32m----> 1\u001b[0m \u001b[43mrte_demo\u001b[49m\u001b[43m(\u001b[49m\u001b[43mx\u001b[49m\u001b[43m,\u001b[49m\u001b[43mt\u001b[49m\u001b[43m)\u001b[49m\n",
      "File \u001b[0;32m/home/pai/lib/python3.9/site-packages/torch/nn/modules/module.py:1130\u001b[0m, in \u001b[0;36mModule._call_impl\u001b[0;34m(self, *input, **kwargs)\u001b[0m\n\u001b[1;32m   1126\u001b[0m \u001b[38;5;66;03m# If we don't have any hooks, we want to skip the rest of the logic in\u001b[39;00m\n\u001b[1;32m   1127\u001b[0m \u001b[38;5;66;03m# this function, and just call forward.\u001b[39;00m\n\u001b[1;32m   1128\u001b[0m \u001b[38;5;28;01mif\u001b[39;00m \u001b[38;5;129;01mnot\u001b[39;00m (\u001b[38;5;28mself\u001b[39m\u001b[38;5;241m.\u001b[39m_backward_hooks \u001b[38;5;129;01mor\u001b[39;00m \u001b[38;5;28mself\u001b[39m\u001b[38;5;241m.\u001b[39m_forward_hooks \u001b[38;5;129;01mor\u001b[39;00m \u001b[38;5;28mself\u001b[39m\u001b[38;5;241m.\u001b[39m_forward_pre_hooks \u001b[38;5;129;01mor\u001b[39;00m _global_backward_hooks\n\u001b[1;32m   1129\u001b[0m         \u001b[38;5;129;01mor\u001b[39;00m _global_forward_hooks \u001b[38;5;129;01mor\u001b[39;00m _global_forward_pre_hooks):\n\u001b[0;32m-> 1130\u001b[0m     \u001b[38;5;28;01mreturn\u001b[39;00m \u001b[43mforward_call\u001b[49m\u001b[43m(\u001b[49m\u001b[38;5;241;43m*\u001b[39;49m\u001b[38;5;28;43minput\u001b[39;49m\u001b[43m,\u001b[49m\u001b[43m \u001b[49m\u001b[38;5;241;43m*\u001b[39;49m\u001b[38;5;241;43m*\u001b[39;49m\u001b[43mkwargs\u001b[49m\u001b[43m)\u001b[49m\n\u001b[1;32m   1131\u001b[0m \u001b[38;5;66;03m# Do not call functions when jit is used\u001b[39;00m\n\u001b[1;32m   1132\u001b[0m full_backward_hooks, non_full_backward_hooks \u001b[38;5;241m=\u001b[39m [], []\n",
      "Cell \u001b[0;32mIn[7], line 17\u001b[0m, in \u001b[0;36mRelTemporalEncoding.forward\u001b[0;34m(self, x, t)\u001b[0m\n\u001b[1;32m     16\u001b[0m \u001b[38;5;28;01mdef\u001b[39;00m \u001b[38;5;21mforward\u001b[39m(\u001b[38;5;28mself\u001b[39m, x, t):\n\u001b[0;32m---> 17\u001b[0m     \u001b[38;5;28;01mreturn\u001b[39;00m \u001b[43mx\u001b[49m\u001b[43m \u001b[49m\u001b[38;5;241;43m+\u001b[39;49m\u001b[43m \u001b[49m\u001b[38;5;28;43mself\u001b[39;49m\u001b[38;5;241;43m.\u001b[39;49m\u001b[43mlin\u001b[49m\u001b[43m(\u001b[49m\u001b[38;5;28;43mself\u001b[39;49m\u001b[38;5;241;43m.\u001b[39;49m\u001b[43memb\u001b[49m\u001b[43m(\u001b[49m\u001b[43mt\u001b[49m\u001b[43m)\u001b[49m\u001b[43m)\u001b[49m\n",
      "\u001b[0;31mRuntimeError\u001b[0m: The size of tensor a (32) must match the size of tensor b (8) at non-singleton dimension 1"
     ]
    }
   ],
   "source": [
    "rte_demo(x,t)"
   ]
  },
  {
   "cell_type": "code",
   "execution_count": null,
   "id": "9112aaf5-9de5-42f1-96b9-14c4e83f9f91",
   "metadata": {},
   "outputs": [],
   "source": []
  }
 ],
 "metadata": {
  "kernelspec": {
   "display_name": "Python 3 (ipykernel)",
   "language": "python",
   "name": "python3"
  },
  "language_info": {
   "codemirror_mode": {
    "name": "ipython",
    "version": 3
   },
   "file_extension": ".py",
   "mimetype": "text/x-python",
   "name": "python",
   "nbconvert_exporter": "python",
   "pygments_lexer": "ipython3",
   "version": "3.9.15"
  }
 },
 "nbformat": 4,
 "nbformat_minor": 5
}
